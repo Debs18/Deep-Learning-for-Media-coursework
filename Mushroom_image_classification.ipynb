{
  "nbformat": 4,
  "nbformat_minor": 0,
  "metadata": {
    "colab": {
      "provenance": []
    },
    "kernelspec": {
      "name": "python3",
      "display_name": "Python 3"
    },
    "language_info": {
      "name": "python"
    }
  },
  "cells": [
    {
      "cell_type": "code",
      "source": [
        "%cd /content/drive/MyDrive/DL_hw1"
      ],
      "metadata": {
        "colab": {
          "base_uri": "https://localhost:8080/"
        },
        "id": "q7UMWgWAlY9Z",
        "outputId": "72f9cc9e-f95f-4edd-b6f6-c2ce3939abc6"
      },
      "execution_count": null,
      "outputs": [
        {
          "output_type": "stream",
          "name": "stdout",
          "text": [
            "/content/drive/MyDrive/DL_hw1\n"
          ]
        }
      ]
    },
    {
      "cell_type": "code",
      "source": [
        "import pandas as pd\n",
        "import numpy as np\n",
        "import matplotlib.pyplot as plt\n",
        "from tensorflow import keras\n",
        "from keras.layers import Dense\n",
        "from keras.models import Sequential"
      ],
      "metadata": {
        "id": "c1Cfq1Ivql9V"
      },
      "execution_count": null,
      "outputs": []
    },
    {
      "cell_type": "code",
      "source": [
        "def load_data():\n",
        "    \"\"\"\n",
        "    Load the mashroom dataset from disk.\n",
        "\n",
        "    Returns\n",
        "    -------\n",
        "    X_train : np.ndarray\n",
        "        A numpy array containing the features of the trainin set of the\n",
        "        mashroom dataset.\n",
        "    X_test : np.ndarray\n",
        "        A numpy array containing the features of the test set of the\n",
        "        mashroom dataset.\n",
        "    y_train : np.ndarray\n",
        "        A numpy array containing the training labels of the mashroom dataset.\n",
        "    y_test : np.ndarray\n",
        "        A numpy array containing the test labels of the mashroom dataset.\n",
        "    \"\"\"\n",
        "    # YOUR CODE HERE\n",
        "    X_train = np.load('/content/drive/MyDrive/DL_hw1/homework-1-Debss18-main/data/X_train.npy')\n",
        "    X_test = np.load('/content/drive/MyDrive/DL_hw1/homework-1-Debss18-main/data/X_test.npy')\n",
        "    y_train = np.load('/content/drive/MyDrive/DL_hw1/homework-1-Debss18-main/data/y_train.npy')\n",
        "    y_test = np.load('/content/drive/MyDrive/DL_hw1/homework-1-Debss18-main/data/y_test.npy')\n",
        "    # Hint: use np.load\n",
        "\n",
        "    return X_train, X_test, y_train, y_test"
      ],
      "metadata": {
        "id": "rSY6y5CXsl-o"
      },
      "execution_count": null,
      "outputs": []
    },
    {
      "cell_type": "code",
      "source": [
        "X_train, X_test, y_train, y_test = load_data()"
      ],
      "metadata": {
        "id": "lX-rl91c6usS"
      },
      "execution_count": null,
      "outputs": []
    },
    {
      "cell_type": "code",
      "source": [
        "print(X_train.shape, X_test.shape, y_train.shape, y_test.shape) # check data dimensions X.shape==(samples, features)"
      ],
      "metadata": {
        "colab": {
          "base_uri": "https://localhost:8080/"
        },
        "id": "Oe2gms_a8QJS",
        "outputId": "5b9f2f57-01a6-4a1e-ab42-5fc8f1779298"
      },
      "execution_count": null,
      "outputs": [
        {
          "output_type": "stream",
          "name": "stdout",
          "text": [
            "(5760, 115) (640, 115) (5760,) (640,)\n"
          ]
        }
      ]
    },
    {
      "cell_type": "code",
      "source": [
        "def split_data(X, y, train_size=0.9, val_size=0.1):\n",
        "    \"\"\"\n",
        "    Splits the input data into training and validation according\n",
        "    to the given percentages.\n",
        "\n",
        "    Parameters\n",
        "    ----------\n",
        "    X : np.ndarray\n",
        "        The input features to be split.\n",
        "    y : np.ndarray\n",
        "        The input labels to be split.\n",
        "    train_size : float, optional\n",
        "        The proportion of data to be used for training, by default 0.9.\n",
        "    val_size : float, optional\n",
        "        The proportion of data to be used for validation, by default 0.1.\n",
        "\n",
        "    Returns\n",
        "    -------\n",
        "    X_train : np.ndarray\n",
        "        The input features to be used for training.\n",
        "    X_val : np.ndarray\n",
        "        The input features to be used for validation.\n",
        "    y_train : np.ndarray\n",
        "        The input labels to be used for training.\n",
        "    y_val : np.ndarray\n",
        "        The input labels to be used for validation.\n",
        "    \"\"\"\n",
        "    # YOUR CODE HERE\n",
        "    X_train = X[:int(X.shape[0]*train_size),]\n",
        "    y_train = y[:int(y.shape[0]*train_size),]\n",
        "    X_val = X[-int(np.round(X.shape[0]*val_size)):,]\n",
        "    y_val = y[-int(np.round(y.shape[0]*val_size)):,]\n",
        "\n",
        "    # Calculate the size of training and validation sets given the percentages\n",
        "    pass\n",
        "\n",
        "    return X_train, X_val, y_train, y_val"
      ],
      "metadata": {
        "id": "x1W3B0e8smqT"
      },
      "execution_count": null,
      "outputs": []
    },
    {
      "cell_type": "code",
      "source": [
        "X_train, X_val, y_train, y_val = split_data(X = X_train, y = y_train)"
      ],
      "metadata": {
        "id": "8yDZsw0RiZ1c"
      },
      "execution_count": null,
      "outputs": []
    },
    {
      "cell_type": "code",
      "source": [
        "print(X_train.shape, X_val.shape, y_train.shape, y_val.shape)"
      ],
      "metadata": {
        "colab": {
          "base_uri": "https://localhost:8080/"
        },
        "id": "8Hp1BeRLiPgr",
        "outputId": "9bcaab78-ca5a-4688-f3b5-a58b3e841c9e"
      },
      "execution_count": null,
      "outputs": [
        {
          "output_type": "stream",
          "name": "stdout",
          "text": [
            "(5184, 115) (576, 115) (5184,) (576,)\n"
          ]
        }
      ]
    },
    {
      "cell_type": "code",
      "source": [
        "def build_baseline(input_shape):\n",
        "  \"\"\"\n",
        "  Build a binary classification baseline using Dense layers.\n",
        "\n",
        "  Parameters\n",
        "  ----------\n",
        "  input_shape : int\n",
        "      The shape of the input data. This should be an integer\n",
        "      specifying the number of features in the input data (e.g. 200).\n",
        "\n",
        "  Returns\n",
        "  -------\n",
        "  baseline : keras.models.Sequential\n",
        "      A Keras sequential model object representing the built model.\n",
        "      The model architecture should consist of at least two Dense layers with\n",
        "      appropriate sizes and activations, followed by an output layer with a\n",
        "      single unit and sigmoid activation function. The model should be\n",
        "      compiled with the binary cross-entropy loss function, an adam optimizer,\n",
        "      and the accuracy metric.\n",
        "  \"\"\"\n",
        "  # YOUR CODE HERE\n",
        "  model = keras.Sequential([\n",
        "        keras.layers.Dense(512, input_shape =(input_shape,), activation='relu'),\n",
        "        keras.layers.Dense(128, activation='relu'),\n",
        "        keras.layers.Dense(1, activation='sigmoid')\n",
        "    ])\n",
        "  model.compile(optimizer='adam', loss='binary_crossentropy',\n",
        "                  metrics=['accuracy'])\n",
        "  return model\n",
        "\n"
      ],
      "metadata": {
        "id": "kTOtERqxsst2"
      },
      "execution_count": null,
      "outputs": []
    },
    {
      "cell_type": "code",
      "source": [
        "baseline = build_baseline(X_train.shape[1])\n"
      ],
      "metadata": {
        "id": "lAT4VLl9ll1Z"
      },
      "execution_count": null,
      "outputs": []
    },
    {
      "cell_type": "code",
      "source": [
        "def train_model(model, X_train, y_train, epochs=10, batch_size=32, \\\n",
        "                class_weights=None, X_val=None, y_val=None):\n",
        "    \"\"\"\n",
        "    Train a given Keras model using the provided training data. Use the\n",
        "    validation data to monitor the model during training.\n",
        "\n",
        "    Parameters\n",
        "    ----------\n",
        "    model : keras.Sequential\n",
        "        The Keras model to be trained.\n",
        "    X_train : np.ndarray\n",
        "        The input features for training the model.\n",
        "    y_train : np.ndarray\n",
        "        The target values for training the model.\n",
        "    epochs : int, optional\n",
        "        The number of epochs to train the model for. Default is 10.\n",
        "    batch_size : int, optional\n",
        "        The batch size to use during training. Default is 32.\n",
        "    class_weights : dict, optional\n",
        "        A dictionary containing class weights to be applied to the loss function\n",
        "        during training to balance the data. Default is None.\n",
        "    X_val : np.ndarray, optional\n",
        "        The input features for validating the model.\n",
        "    y_val : np.ndarray, optional\n",
        "        The target values for validating the model.\n",
        "\n",
        "    Returns\n",
        "    -------\n",
        "    model : keras.Sequential\n",
        "        The trained Keras model.\n",
        "    history : keras.callbacks.History\n",
        "        The training history of the model.\n",
        "    \"\"\"\n",
        "    # YOUR CODE HERE\n",
        "    history = model.fit(X_train, y_train,\n",
        "                        epochs=epochs,\n",
        "                        batch_size=batch_size,\n",
        "                        validation_data=(X_val, y_val))\n",
        "\n",
        "    return model, history\n"
      ],
      "metadata": {
        "id": "p2RFQwgPs2NZ"
      },
      "execution_count": null,
      "outputs": []
    },
    {
      "cell_type": "code",
      "source": [
        "model, history = train_model(baseline, X_train, y_train,\n",
        "                    epochs=10,\n",
        "                    class_weights=None,\n",
        "                    X_val=X_val, y_val=y_val)"
      ],
      "metadata": {
        "colab": {
          "base_uri": "https://localhost:8080/"
        },
        "id": "reK0bDQWDXjY",
        "outputId": "659dfc55-a6bc-4cad-ab63-bddf41044ca4"
      },
      "execution_count": null,
      "outputs": [
        {
          "output_type": "stream",
          "name": "stdout",
          "text": [
            "Epoch 1/10\n",
            "162/162 [==============================] - 2s 8ms/step - loss: 0.4065 - accuracy: 0.7398 - val_loss: 0.3630 - val_accuracy: 0.7326\n",
            "Epoch 2/10\n",
            "162/162 [==============================] - 1s 7ms/step - loss: 0.3485 - accuracy: 0.7797 - val_loss: 0.3892 - val_accuracy: 0.7431\n",
            "Epoch 3/10\n",
            "162/162 [==============================] - 1s 7ms/step - loss: 0.3298 - accuracy: 0.8067 - val_loss: 0.3670 - val_accuracy: 0.7274\n",
            "Epoch 4/10\n",
            "162/162 [==============================] - 1s 6ms/step - loss: 0.3055 - accuracy: 0.8349 - val_loss: 0.4134 - val_accuracy: 0.7431\n",
            "Epoch 5/10\n",
            "162/162 [==============================] - 1s 4ms/step - loss: 0.2567 - accuracy: 0.8740 - val_loss: 0.4098 - val_accuracy: 0.7552\n",
            "Epoch 6/10\n",
            "162/162 [==============================] - 1s 4ms/step - loss: 0.1964 - accuracy: 0.9151 - val_loss: 0.4681 - val_accuracy: 0.7656\n",
            "Epoch 7/10\n",
            "162/162 [==============================] - 1s 4ms/step - loss: 0.1257 - accuracy: 0.9495 - val_loss: 0.5424 - val_accuracy: 0.7691\n",
            "Epoch 8/10\n",
            "162/162 [==============================] - 1s 4ms/step - loss: 0.0618 - accuracy: 0.9794 - val_loss: 0.7327 - val_accuracy: 0.7396\n",
            "Epoch 9/10\n",
            "162/162 [==============================] - 1s 4ms/step - loss: 0.0481 - accuracy: 0.9851 - val_loss: 0.7628 - val_accuracy: 0.7483\n",
            "Epoch 10/10\n",
            "162/162 [==============================] - 1s 4ms/step - loss: 0.0255 - accuracy: 0.9927 - val_loss: 0.9109 - val_accuracy: 0.7726\n"
          ]
        }
      ]
    },
    {
      "cell_type": "code",
      "source": [
        "def plot_loss(history):\n",
        "  \"\"\"\n",
        "  Plot the training and validation loss and accuracy.\n",
        "\n",
        "  Parameters\n",
        "  ----------\n",
        "  history : keras.callbacks.History\n",
        "      The history object returned by the `fit` method of a Keras model.\n",
        "\n",
        "  Returns\n",
        "  -------\n",
        "  None\n",
        "  \"\"\"\n",
        "\n",
        "  # Plot the training and validation loss side by side\n",
        "  fig, ax = plt.subplots(1, 2, figsize=(10, 5))\n",
        "\n",
        "  # Plot the training and validation loss\n",
        "  ax[0].plot(history.history['loss'], label='train')\n",
        "  ax[0].plot(history.history['val_loss'], label='val')\n",
        "  ax[0].set_xlabel('Epoch')\n",
        "  ax[0].set_ylabel('Loss')\n",
        "  ax[0].legend()\n",
        "\n",
        "  # Plot the training and validation accuracy\n",
        "  ax[1].plot(history.history['accuracy'], label='train')\n",
        "  ax[1].plot(history.history['val_accuracy'], label='val')\n",
        "  ax[1].set_xlabel('Epoch')\n",
        "  ax[1].set_ylabel('Accuracy')\n",
        "  ax[1].legend()"
      ],
      "metadata": {
        "id": "pRZ7GA-Upuz0"
      },
      "execution_count": null,
      "outputs": []
    },
    {
      "cell_type": "code",
      "source": [
        "plot_loss(history)"
      ],
      "metadata": {
        "colab": {
          "base_uri": "https://localhost:8080/",
          "height": 389
        },
        "id": "NmAE4O2PrOtL",
        "outputId": "4c566852-8000-406f-d617-b9b59e048918"
      },
      "execution_count": null,
      "outputs": [
        {
          "output_type": "display_data",
          "data": {
            "text/plain": [
              "<Figure size 1000x500 with 2 Axes>"
            ],
            "image/png": "[encoded data removed]"
          },
          "metadata": {}
        }
      ]
    },
    {
      "cell_type": "code",
      "source": [
        "def evaluate_model(model, X_test, y_test):\n",
        "    \"\"\"\n",
        "    Evaluate a trained model on a test set and return the accuracy of the model.\n",
        "\n",
        "    Parameters\n",
        "    ----------\n",
        "    model : keras.models.Model\n",
        "        The trained Keras model to evaluate.\n",
        "    X_test : numpy.ndarray\n",
        "        The test set features as a numpy array.\n",
        "    y_test : numpy.ndarray\n",
        "        The test set labels as a numpy array.\n",
        "\n",
        "    Returns\n",
        "    -------\n",
        "    accuracy : float\n",
        "        The accuracy of the model on the test set as a percentage.\n",
        "    \"\"\"\n",
        "    # YOUR CODE HERE\n",
        "    # Evaluate model\n",
        "    #test_loss, test_acc = model.predict(X_test, verbose=2)\n",
        "    #print(test_acc)\n",
        "\n",
        "    y_pred = np.argmax(model.predict(X_test), axis=1)\n",
        "    acc = np.mean(y_pred==y_test)\n",
        "    return acc"
      ],
      "metadata": {
        "id": "eD6KJLq9s7b-"
      },
      "execution_count": null,
      "outputs": []
    },
    {
      "cell_type": "code",
      "source": [
        "evaluate_model(baseline, X_test, y_test)"
      ],
      "metadata": {
        "colab": {
          "base_uri": "https://localhost:8080/"
        },
        "id": "OpTWrkBbtJKS",
        "outputId": "da9a59ac-9887-45d1-88c1-775810057720"
      },
      "execution_count": null,
      "outputs": [
        {
          "output_type": "stream",
          "name": "stdout",
          "text": [
            "20/20 [==============================] - 0s 2ms/step\n"
          ]
        },
        {
          "output_type": "execute_result",
          "data": {
            "text/plain": [
              "0.7046875"
            ]
          },
          "metadata": {},
          "execution_count": 12
        }
      ]
    },
    {
      "cell_type": "code",
      "source": [
        "def classify_mushrooms(model, mushroom_features):\n",
        "  \"\"\"\n",
        "  Classify mushrooms as poisonous or edible based on the given features. This\n",
        "  function is meant to be used in individual or few samples in practice.\n",
        "\n",
        "  Parameters\n",
        "  ----------\n",
        "  model : keras.engine.training.Model\n",
        "      The trained model to use for classification.\n",
        "  mushroom_features : np.ndarray\n",
        "      A numpy array containing the features of the mushrooms to classify.\n",
        "\n",
        "  Returns\n",
        "  -------\n",
        "  np.ndarray\n",
        "      A numpy array containing the predicted labels (0 for edible,\n",
        "      1 for poisonous) for the given mushrooms.\n",
        "  \"\"\"\n",
        "  # YOUR CODE HERE\n",
        "  # Classify mushrooms\n",
        "  y_pred = model.predict(mushroom_features)\n",
        "  y_pred = np.squeeze(np.round(y_pred), axis=1)\n",
        "  # Hint: same idea as the evaluation function but you return the predictions\n",
        "  return y_pred"
      ],
      "metadata": {
        "id": "XYNydD_RtFF9"
      },
      "execution_count": null,
      "outputs": []
    },
    {
      "cell_type": "code",
      "source": [
        "y_pred = np.squeeze(np.round(y_pred), axis=1)"
      ],
      "metadata": {
        "id": "VNKdElCTfM49",
        "colab": {
          "base_uri": "https://localhost:8080/",
          "height": 141
        },
        "outputId": "ba2f7b59-3130-432a-fdea-4a27dd5ac088"
      },
      "execution_count": null,
      "outputs": [
        {
          "output_type": "error",
          "ename": "NameError",
          "evalue": "name 'y_pred' is not defined",
          "traceback": [
            "\u001b[0;31m---------------------------------------------------------------------------\u001b[0m",
            "\u001b[0;31mNameError\u001b[0m                                 Traceback (most recent call last)",
            "\u001b[0;32m<ipython-input-16-18dd39c96600>\u001b[0m in \u001b[0;36m<cell line: 1>\u001b[0;34m()\u001b[0m\n\u001b[0;32m----> 1\u001b[0;31m \u001b[0my_pred\u001b[0m \u001b[0;34m=\u001b[0m \u001b[0mnp\u001b[0m\u001b[0;34m.\u001b[0m\u001b[0msqueeze\u001b[0m\u001b[0;34m(\u001b[0m\u001b[0mnp\u001b[0m\u001b[0;34m.\u001b[0m\u001b[0mround\u001b[0m\u001b[0;34m(\u001b[0m\u001b[0my_pred\u001b[0m\u001b[0;34m)\u001b[0m\u001b[0;34m,\u001b[0m \u001b[0maxis\u001b[0m\u001b[0;34m=\u001b[0m\u001b[0;36m1\u001b[0m\u001b[0;34m)\u001b[0m\u001b[0;34m\u001b[0m\u001b[0;34m\u001b[0m\u001b[0m\n\u001b[0m",
            "\u001b[0;31mNameError\u001b[0m: name 'y_pred' is not defined"
          ]
        }
      ]
    },
    {
      "cell_type": "code",
      "source": [
        "from sklearn.metrics import classification_report\n",
        "\n",
        "idx = np.random.randint(0, len(y_test), size=1)[0]\n",
        "mushroom_features = X_test[idx][np.newaxis, :]\n",
        "print('This mushroom is labeled as edible.' if y_test[idx]==0 else\n",
        "      'This mushroom is labeled as poisonous.')\n",
        "\n",
        "# Use your model to make predictions\n",
        "y_pred = classify_mushrooms(baseline, mushroom_features)\n",
        "\n",
        "if y_pred[0] == 1:\n",
        "    print('Your prediction says the mushroom is poisonous!')\n",
        "else:\n",
        "    print('Your prediction says the mushroom is edible!')\n",
        "#print(idx, X_test[idx])"
      ],
      "metadata": {
        "colab": {
          "base_uri": "https://localhost:8080/"
        },
        "id": "Oavb4cOVeGLe",
        "outputId": "17b89125-fe29-405a-da07-af13a38fc4be"
      },
      "execution_count": null,
      "outputs": [
        {
          "output_type": "stream",
          "name": "stdout",
          "text": [
            "This mushroom is labeled as poisonous.\n",
            "1/1 [==============================] - 0s 66ms/step\n",
            "Your prediction says the mushroom is poisonous!\n"
          ]
        }
      ]
    },
    {
      "cell_type": "code",
      "source": [
        "\n",
        "def build_model(input_shape):\n",
        "  \"\"\"\n",
        "  Build a binary classification model using Dense layers. This model should\n",
        "  achieve over 90% recall in poisonous mushrooms, and over 90% of precision in\n",
        "  edible mushrooms.\n",
        "\n",
        "  Parameters\n",
        "  ----------\n",
        "  input_shape : tuple\n",
        "      The shape of the input data. This should be a tuple of integers\n",
        "      specifying the number of features in the input data (e.g. (200,)).\n",
        "\n",
        "  Returns\n",
        "  -------\n",
        "  model : keras.models.Sequential\n",
        "      A Keras sequential model object representing the built model.\n",
        "      The model architecture should consist of at least two Dense layers with\n",
        "      appropriate sizes and activations, followed by an output layer with a\n",
        "      single unit and sigmoid activation function. The model should be\n",
        "      compiled with the binary cross-entropy loss function, an adam optimizer,\n",
        "      and the accuracy metric.\n",
        "  \"\"\"\n",
        "  model = keras.Sequential([\n",
        "        keras.layers.Dense(256, activation='relu'),\n",
        "        keras.layers.Dropout(0.5),\n",
        "        keras.layers.Dense(128, activation='relu'),\n",
        "        keras.layers.Dropout(0.5),\n",
        "        keras.layers.Dense(64, activation='relu'),\n",
        "        keras.layers.Dropout(0.5),\n",
        "        keras.layers.Dense(32, activation='relu'),\n",
        "        keras.layers.Dropout(0.5),\n",
        "        keras.layers.Dense(1, activation='sigmoid')\n",
        "    ])\n",
        "  model.compile(optimizer='adam', loss='binary_crossentropy',\n",
        "                  metrics=['accuracy'])\n",
        "  return model"
      ],
      "metadata": {
        "id": "_-PVPpc3tNBa"
      },
      "execution_count": null,
      "outputs": []
    },
    {
      "cell_type": "code",
      "source": [
        "model = build_model(X_train.shape[1])"
      ],
      "metadata": {
        "id": "lyDidQYCluRw"
      },
      "execution_count": null,
      "outputs": []
    },
    {
      "cell_type": "code",
      "source": [
        "class_weights = {0: 1, # edible class\n",
        "                 1: 3} # poisonous class\n",
        "\n",
        "model, history = train_model(model, X_train, y_train,\n",
        "                    epochs=10,\n",
        "                    class_weights=class_weights,\n",
        "                    X_val=X_val, y_val=y_val)"
      ],
      "metadata": {
        "colab": {
          "base_uri": "https://localhost:8080/"
        },
        "id": "WyARKNEml4F0",
        "outputId": "eb59440e-0a70-47eb-fdd3-68b403340750"
      },
      "execution_count": null,
      "outputs": [
        {
          "output_type": "stream",
          "name": "stdout",
          "text": [
            "Epoch 1/10\n",
            "162/162 [==============================] - 2s 5ms/step - loss: 0.5117 - accuracy: 0.7024 - val_loss: 0.3936 - val_accuracy: 0.7205\n",
            "Epoch 2/10\n",
            "162/162 [==============================] - 1s 3ms/step - loss: 0.4030 - accuracy: 0.7270 - val_loss: 0.3848 - val_accuracy: 0.7396\n",
            "Epoch 3/10\n",
            "162/162 [==============================] - 1s 5ms/step - loss: 0.3828 - accuracy: 0.7290 - val_loss: 0.3798 - val_accuracy: 0.7448\n",
            "Epoch 4/10\n",
            "162/162 [==============================] - 1s 5ms/step - loss: 0.3777 - accuracy: 0.7432 - val_loss: 0.3773 - val_accuracy: 0.7465\n",
            "Epoch 5/10\n",
            "162/162 [==============================] - 1s 5ms/step - loss: 0.3767 - accuracy: 0.7481 - val_loss: 0.3745 - val_accuracy: 0.7431\n",
            "Epoch 6/10\n",
            "162/162 [==============================] - 1s 5ms/step - loss: 0.3728 - accuracy: 0.7477 - val_loss: 0.3731 - val_accuracy: 0.7465\n",
            "Epoch 7/10\n",
            "162/162 [==============================] - 1s 5ms/step - loss: 0.3677 - accuracy: 0.7504 - val_loss: 0.3691 - val_accuracy: 0.7465\n",
            "Epoch 8/10\n",
            "162/162 [==============================] - 1s 3ms/step - loss: 0.3672 - accuracy: 0.7525 - val_loss: 0.3638 - val_accuracy: 0.7448\n",
            "Epoch 9/10\n",
            "162/162 [==============================] - 1s 4ms/step - loss: 0.3615 - accuracy: 0.7454 - val_loss: 0.3540 - val_accuracy: 0.7465\n",
            "Epoch 10/10\n",
            "162/162 [==============================] - 1s 4ms/step - loss: 0.3584 - accuracy: 0.7429 - val_loss: 0.3508 - val_accuracy: 0.7465\n"
          ]
        }
      ]
    },
    {
      "cell_type": "code",
      "source": [
        "plot_loss(history)"
      ],
      "metadata": {
        "id": "B1wghumlorAu",
        "colab": {
          "base_uri": "https://localhost:8080/",
          "height": 382
        },
        "outputId": "408a4aad-e62a-4597-c594-ba4e1151d401"
      },
      "execution_count": null,
      "outputs": [
        {
          "output_type": "display_data",
          "data": {
            "text/plain": [
              "<Figure size 1000x500 with 2 Axes>"
            ],
            "image/png": "[encoded data removed]"
          },
          "metadata": {}
        }
      ]
    },
    {
      "cell_type": "code",
      "source": [
        "evaluate_model(model, X_test, y_test)"
      ],
      "metadata": {
        "colab": {
          "base_uri": "https://localhost:8080/"
        },
        "id": "LIyNCLMdQ5jk",
        "outputId": "8eb3c2af-11b8-4ab0-df18-439a578bc8c0"
      },
      "execution_count": null,
      "outputs": [
        {
          "output_type": "stream",
          "name": "stdout",
          "text": [
            "20/20 [==============================] - 0s 2ms/step\n"
          ]
        },
        {
          "output_type": "execute_result",
          "data": {
            "text/plain": [
              "0.7046875"
            ]
          },
          "metadata": {},
          "execution_count": 24
        }
      ]
    },
    {
      "cell_type": "code",
      "source": [
        "y_pred = classify_mushrooms(model, X_test)\n",
        "\n",
        "# Compute classification report\n",
        "target_names = ['edible', 'poisonous']\n",
        "report = classification_report(list(y_test),\n",
        "                               list(y_pred),\n",
        "                               target_names=target_names)\n",
        "\n",
        "print(report)"
      ],
      "metadata": {
        "colab": {
          "base_uri": "https://localhost:8080/"
        },
        "id": "2jMRgO7MSAUB",
        "outputId": "7080661d-d0a4-4c81-a01f-5fabe4cc9810"
      },
      "execution_count": null,
      "outputs": [
        {
          "output_type": "stream",
          "name": "stdout",
          "text": [
            "20/20 [==============================] - 0s 2ms/step\n",
            "              precision    recall  f1-score   support\n",
            "\n",
            "      edible       1.00      0.64      0.78       451\n",
            "   poisonous       0.54      1.00      0.70       189\n",
            "\n",
            "    accuracy                           0.75       640\n",
            "   macro avg       0.77      0.82      0.74       640\n",
            "weighted avg       0.86      0.75      0.76       640\n",
            "\n"
          ]
        }
      ]
    },
    {
      "cell_type": "code",
      "source": [
        "np.save('/content/drive/MyDrive/mushroom_y_pred.npy', y_pred)"
      ],
      "metadata": {
        "id": "IjVnGSavY9ZH"
      },
      "execution_count": null,
      "outputs": []
    },
    {
      "cell_type": "code",
      "source": [
        "# Auxiliary functions below =====================================\n",
        "\n",
        "def explore_data(X_train, y_train, y_test, y_val):\n",
        "  \"\"\"\n",
        "  Plots the distribution of classes in the training, validation, and test sets.\n",
        "\n",
        "  Parameters\n",
        "  ----------\n",
        "  X_train : np.ndarray\n",
        "      A numpy array containing the features of the training set.\n",
        "  y_train : np.ndarray\n",
        "      A numpy array containing the labels of the training set.\n",
        "  y_test : np.ndarray\n",
        "      A numpy array containing the labels of the test set.\n",
        "  y_val : np.ndarray\n",
        "      A numpy array containing the labels of the validation set.\n",
        "\n",
        "  Returns\n",
        "  -------\n",
        "  None\n",
        "  \"\"\"\n",
        "\n",
        "  # Class names\n",
        "  class_names = ['edible', 'poisonous']\n",
        "\n",
        "  # Plot the distribution of classes in the training, validation, and test sets\n",
        "  fig, ax = plt.subplots(1, 3, figsize=(10, 5))\n",
        "\n",
        "  # Plot the distribution of classes in the training set\n",
        "  train_class_counts = np.bincount(y_train)\n",
        "  ax[0].bar(range(len(class_names)), train_class_counts)\n",
        "  ax[0].set_xticks(range(len(class_names)))\n",
        "  ax[0].set_xticklabels(class_names, rotation=45)\n",
        "  ax[0].set_title('Training set')\n",
        "\n",
        "  # Plot the distribution of classes in the test set\n",
        "  test_class_counts = np.bincount(y_val)\n",
        "  ax[1].bar(range(len(class_names)), test_class_counts)\n",
        "  ax[1].set_xticks(range(len(class_names)))\n",
        "  ax[1].set_xticklabels(class_names, rotation=45)\n",
        "  ax[1].set_title('Val set')\n",
        "\n",
        "  # Plot the distribution of classes in the test set\n",
        "  test_class_counts = np.bincount(y_test)\n",
        "  ax[2].bar(range(len(class_names)), test_class_counts)\n",
        "  ax[2].set_xticks(range(len(class_names)))\n",
        "  ax[2].set_xticklabels(class_names, rotation=45)\n",
        "  ax[2].set_title('Test set')\n",
        "\n",
        "  plt.show()"
      ],
      "metadata": {
        "id": "TJ9g5F8LtNzd"
      },
      "execution_count": null,
      "outputs": []
    },
    {
      "cell_type": "code",
      "source": [
        "def plot_loss(history):\n",
        "  \"\"\"\n",
        "  Plot the training and validation loss and accuracy.\n",
        "\n",
        "  Parameters\n",
        "  ----------\n",
        "  history : keras.callbacks.History\n",
        "      The history object returned by the `fit` method of a Keras model.\n",
        "\n",
        "  Returns\n",
        "  -------\n",
        "  None\n",
        "  \"\"\"\n",
        "\n",
        "  # Plot the training and validation loss side by side\n",
        "  fig, ax = plt.subplots(1, 2, figsize=(10, 5))\n",
        "\n",
        "  # Plot the training and validation loss\n",
        "  ax[0].plot(history.history['loss'], label='train')\n",
        "  ax[0].plot(history.history['val_loss'], label='val')\n",
        "  ax[0].set_xlabel('Epoch')\n",
        "  ax[0].set_ylabel('Loss')\n",
        "  ax[0].legend()\n",
        "\n",
        "  # Plot the training and validation accuracy\n",
        "  ax[1].plot(history.history['accuracy'], label='train')\n",
        "  ax[1].plot(history.history['val_accuracy'], label='val')\n",
        "  ax[1].set_xlabel('Epoch')\n",
        "  ax[1].set_ylabel('Accuracy')\n",
        "  ax[1].legend()"
      ],
      "metadata": {
        "id": "MUclpxFytZaP"
      },
      "execution_count": null,
      "outputs": []
    }
  ]
}